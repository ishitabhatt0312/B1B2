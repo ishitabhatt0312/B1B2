{
 "cells": [
  {
   "cell_type": "code",
   "execution_count": 1,
   "id": "ed31c708-2305-47ba-947c-595068ab3080",
   "metadata": {},
   "outputs": [],
   "source": [
    "%%capture\n",
    "!pip install numpy"
   ]
  },
  {
   "cell_type": "code",
   "execution_count": 3,
   "id": "66282295-3513-4c3c-bead-5b425897c0d7",
   "metadata": {},
   "outputs": [],
   "source": [
    "import numpy as np \n"
   ]
  },
  {
   "cell_type": "code",
   "execution_count": 5,
   "id": "09b964a2-ab13-46ef-959a-a95d4a04c3c1",
   "metadata": {},
   "outputs": [
    {
     "name": "stdout",
     "output_type": "stream",
     "text": [
      "[1 2 3]\n",
      "Data Type: int32\n"
     ]
    }
   ],
   "source": [
    "arr = np.array([1,2,3])\n",
    "print(arr)\n",
    "print(\"Data Type:\",arr.dtype) "
   ]
  },
  {
   "cell_type": "code",
   "execution_count": 7,
   "id": "2734a05b-e07f-45b9-be2e-351d7fcde4eb",
   "metadata": {},
   "outputs": [
    {
     "name": "stdout",
     "output_type": "stream",
     "text": [
      "Addition: [5 7 9]\n",
      "Subtraction: [-3 -3 -3]\n",
      "Multiplication: [ 4 10 18]\n",
      "Division: [0.25 0.4  0.5 ]\n"
     ]
    }
   ],
   "source": [
    "a = np.array([1, 2, 3])\n",
    "b = np.array([4, 5, 6])\n",
    "\n",
    "print(\"Addition:\", a + b)\n",
    "print(\"Subtraction:\", a - b)\n",
    "print(\"Multiplication:\", a * b)\n",
    "print(\"Division:\", a / b)"
   ]
  },
  {
   "cell_type": "code",
   "execution_count": 9,
   "id": "38508a49-d14b-4d5f-8b70-6fb037b6bbda",
   "metadata": {},
   "outputs": [
    {
     "name": "stdout",
     "output_type": "stream",
     "text": [
      "First Element: 10\n",
      "Last Element: 50\n",
      "First Three Elements: [10 20 30]\n",
      "Elements from Index 2 to 4: [30 40 50]\n"
     ]
    }
   ],
   "source": [
    "arr = np.array([10, 20, 30, 40, 50])\n",
    "\n",
    "# Access elements by index\n",
    "print(\"First Element:\", arr[0])\n",
    "print(\"Last Element:\", arr[-1])\n",
    "\n",
    "# Slicing\n",
    "print(\"First Three Elements:\", arr[:3])\n",
    "print(\"Elements from Index 2 to 4:\", arr[2:5])\n"
   ]
  },
  {
   "cell_type": "code",
   "execution_count": 11,
   "id": "2cb3afaf-e937-498b-9921-f7ae05180c81",
   "metadata": {},
   "outputs": [
    {
     "name": "stdout",
     "output_type": "stream",
     "text": [
      "Array + 10: [11 12 13]\n"
     ]
    }
   ],
   "source": [
    "arr = np.array([1, 2, 3])\n",
    "print(\"Array + 10:\", arr + 10)"
   ]
  },
  {
   "cell_type": "code",
   "execution_count": 13,
   "id": "b3e670e5-d818-4b7b-b98f-f863cefb12d0",
   "metadata": {},
   "outputs": [
    {
     "data": {
      "text/plain": [
       "array([0.5, 1. , 1.5])"
      ]
     },
     "execution_count": 13,
     "metadata": {},
     "output_type": "execute_result"
    }
   ],
   "source": [
    "arr = np.array(range(1,11))\n",
    "a / 2 "
   ]
  },
  {
   "cell_type": "code",
   "execution_count": 15,
   "id": "fb115a0b-99ab-4686-a441-4603ae94b12b",
   "metadata": {},
   "outputs": [
    {
     "name": "stdout",
     "output_type": "stream",
     "text": [
      "Element-wise Multiplication:\n",
      " [[ 5 12]\n",
      " [21 32]]\n",
      "Matrix Multiplication:\n",
      " [[19 22]\n",
      " [43 50]]\n"
     ]
    }
   ],
   "source": [
    "A = np.array([[1, 2], [3, 4]])\n",
    "B = np.array([[5, 6], [7, 8]])\n",
    "\n",
    "# Element-wise multiplication\n",
    "print(\"Element-wise Multiplication:\\n\", A * B)\n",
    "\n",
    "# Matrix multiplication (dot product)\n",
    "print(\"Matrix Multiplication:\\n\", np.dot(A, B))"
   ]
  },
  {
   "cell_type": "code",
   "execution_count": null,
   "id": "0f1a1036-0eda-479d-8220-2c726ff94df2",
   "metadata": {},
   "outputs": [],
   "source": []
  }
 ],
 "metadata": {
  "kernelspec": {
   "display_name": "Python 3 (ipykernel)",
   "language": "python",
   "name": "python3"
  },
  "language_info": {
   "codemirror_mode": {
    "name": "ipython",
    "version": 3
   },
   "file_extension": ".py",
   "mimetype": "text/x-python",
   "name": "python",
   "nbconvert_exporter": "python",
   "pygments_lexer": "ipython3",
   "version": "3.12.4"
  }
 },
 "nbformat": 4,
 "nbformat_minor": 5
}
