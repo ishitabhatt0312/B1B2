{
 "cells": [
  {
   "cell_type": "code",
   "execution_count": 1,
   "id": "1a6909a5-a651-4311-a26a-3e1233dfd972",
   "metadata": {},
   "outputs": [],
   "source": [
    "file = open(\"example.text\",\"w\")\n",
    "file.write(\"Hello, this is a test.\")\n",
    "file.close() "
   ]
  },
  {
   "cell_type": "code",
   "execution_count": 7,
   "id": "1a341184-35ec-4e85-a3ad-4481ba8a59dc",
   "metadata": {},
   "outputs": [],
   "source": [
    "\n",
    "#create file handle to write \n",
    "file= open(\"example.text\",\"w\")\n",
    "dataString = \"Some dummy text data\\n newline\\t after tab\"\n",
    "fileContent = file.write(dataString)\n",
    "#write data in file\n",
    "file.close()\n"
   ]
  },
  {
   "cell_type": "code",
   "execution_count": 9,
   "id": "16e732bb-e09b-46f8-aa12-0de8d9fb1b7b",
   "metadata": {},
   "outputs": [],
   "source": [
    "#create file handle to write \n",
    "file= open(\"example.text\",\"w\")\n",
    "dataString = \"Some dummy text data\\n newline\\t after tab\".split()\n",
    "file.close()\n"
   ]
  },
  {
   "cell_type": "code",
   "execution_count": 15,
   "id": "79f7c1ce-2222-4375-ab6a-d890921bc97c",
   "metadata": {},
   "outputs": [
    {
     "name": "stdout",
     "output_type": "stream",
     "text": [
      "['Some', 'dummy', 'text', 'data', 'newline', 'after', 'tab']\n"
     ]
    }
   ],
   "source": [
    "#create file handle to write \n",
    "file= open(\"example.text\",\"w\")\n",
    "dataString = \"Some dummy text data\\n newline\\t after tab\".split()\n",
    "fileContent = file.writelines(dataString)\n",
    "print(dataString)\n",
    "#write data in file\n",
    "file.close()\n"
   ]
  },
  {
   "cell_type": "code",
   "execution_count": 23,
   "id": "b83e20f9-15ba-4746-a9b4-e2cf70839a1e",
   "metadata": {},
   "outputs": [
    {
     "name": "stdout",
     "output_type": "stream",
     "text": [
      "Some dummy text data\n",
      " newline\t after tab\n"
     ]
    }
   ],
   "source": [
    "filename= \"example.txt\"\n",
    "#create file handle to write \n",
    "file=open(filename, \"r\")\n",
    "fileContent= file.read()\n",
    "print(fileContent)\n",
    "file.close()"
   ]
  },
  {
   "cell_type": "code",
   "execution_count": 29,
   "id": "d644da23-ebb3-42b5-aadd-35f45cc05444",
   "metadata": {},
   "outputs": [
    {
     "name": "stdout",
     "output_type": "stream",
     "text": [
      "Some\n",
      "dummy\n",
      "line\n"
     ]
    }
   ],
   "source": [
    "filename= \"example.text\"\n",
    "#create file handle to write \n",
    "file=open(filename, \"r\")\n",
    "fileContent= file.read()\n",
    "print(fileContent)\n",
    "file.close()"
   ]
  },
  {
   "cell_type": "code",
   "execution_count": null,
   "id": "b4bc2bb2-b155-45b2-89e6-05300fc05a97",
   "metadata": {},
   "outputs": [],
   "source": []
  },
  {
   "cell_type": "code",
   "execution_count": 17,
   "id": "91021e68-6e2e-4b64-99f4-17e4b7a802e2",
   "metadata": {},
   "outputs": [
    {
     "name": "stdout",
     "output_type": "stream",
     "text": [
      "2,1,3\n",
      "2,1,3\n",
      "2,1,3\n",
      "2,1,3\n",
      "2,1,3\n",
      "2,1,3\n"
     ]
    }
   ],
   "source": [
    "#Write a program to read a csv file and store the data in two dimensional list .\n",
    "#program to read a csv file \n",
    "filename= \"test.csv\"\n",
    "#function to read a csv file andx return list \n",
    "def read_csv(file_name):\n",
    "    fileHandle = open(file_name,\"r\")\n",
    "    data = fileHandle.read()\n",
    "    fileHandle.close()  \n",
    "\n",
    "    #return data \n",
    "    op=data\n",
    "    return op\n",
    "    \n",
    "receivedData = read_csv(file_name)\n",
    "\n",
    "\n",
    "print(receivedData)\n"
   ]
  },
  {
   "cell_type": "code",
   "execution_count": 20,
   "id": "6271dc2a-f04e-49a0-bff7-1ead1bedec7a",
   "metadata": {},
   "outputs": [
    {
     "name": "stdout",
     "output_type": "stream",
     "text": [
      "2,1,3\n",
      "2,1,3\n",
      "2,1,3\n",
      "2,1,3\n",
      "2,1,3\n",
      "2,1,3\n",
      "['2,1,3', '2,1,3', '2,1,3', '2,1,3', '2,1,3', '2,1,3']\n"
     ]
    }
   ],
   "source": [
    "#Write a program to read a csv file and store the data in two dimensional list .\n",
    "#program to read a csv file \n",
    "filename= \"test.csv\"\n",
    "#function to read a csv file andx return list \n",
    "def read_csv(file_name):\n",
    "    fileHandle = open(file_name,\"r\")\n",
    "    data = fileHandle.read()\n",
    "    fileHandle.close()  \n",
    "\n",
    "    #return data \n",
    "    op=data\n",
    "    return op\n",
    "    \n",
    "receivedData = read_csv(file_name)\n",
    "\n",
    "\n",
    "print(receivedData)\n",
    "#by using split function \n",
    "dataString = receivedData.split()\n",
    "print(dataString)\n"
   ]
  },
  {
   "cell_type": "code",
   "execution_count": 22,
   "id": "1a79dfa3-0723-42cd-941f-1382d45e3797",
   "metadata": {},
   "outputs": [
    {
     "name": "stdout",
     "output_type": "stream",
     "text": [
      "2,1,3\n",
      "2,1,3\n",
      "2,1,3\n",
      "2,1,3\n",
      "2,1,3\n",
      "2,1,3\n",
      "['2,1,3', '2,1,3', '2,1,3', '2,1,3', '2,1,3', '2,1,3']\n"
     ]
    }
   ],
   "source": [
    "#Write a program to read a csv file and store the data in two dimensional list .\n",
    "#program to read a csv file \n",
    "filename= \"test.csv\"\n",
    "#function to read a csv file andx return list \n",
    "def read_csv(file_name):\n",
    "    fileHandle = open(file_name,\"r\")\n",
    "    data = fileHandle.read()\n",
    "    fileHandle.close()  \n",
    "\n",
    "    #return data \n",
    "    op=data\n",
    "    return op\n",
    "    \n",
    "receivedData = read_csv(file_name)\n",
    "\n",
    "\n",
    "print(receivedData)\n",
    "#by using split function \n",
    "dataString = receivedData.split(\"\\n\")\n",
    "print(dataString)    \n"
   ]
  },
  {
   "cell_type": "code",
   "execution_count": null,
   "id": "67cd043f-9471-4129-9441-5aa73af37b92",
   "metadata": {},
   "outputs": [],
   "source": [
    "#Write a program to read a csv file and store the data in two dimensional list .\n",
    "#program to read a csv file \n",
    "filename= \"test.csv\"\n",
    "#function to read a csv file andx return list \n",
    "def read_csv(file_name):\n",
    "    fileHandle = open(file_name,\"r\")\n",
    "    data = fileHandle.read()\n",
    "    fileHandle.close()  \n",
    "\n",
    "    #your logic \n",
    "    rows=data.split(\"\\n\")\n",
    "    #print(\"\\n\")\n",
    "    #print rows \n",
    "\n",
    "    for i in range (0,len(rows)):\n",
    "        row = rows[i]\n",
    "        rows[i] = row.split(\",\")\n",
    "\n",
    "    #return data \n",
    "    op=data \n",
    "    return op\n",
    "    \n",
    "receivedData = read_csv(file_name)\n",
    "\n",
    "\n",
    "print(receivedData)\n",
    "#by using split function \n",
    "dataString = receivedData.split(\"\\n\")\n",
    "print(dataString)    \n"
   ]
  }
 ],
 "metadata": {
  "kernelspec": {
   "display_name": "Python 3 (ipykernel)",
   "language": "python",
   "name": "python3"
  },
  "language_info": {
   "codemirror_mode": {
    "name": "ipython",
    "version": 3
   },
   "file_extension": ".py",
   "mimetype": "text/x-python",
   "name": "python",
   "nbconvert_exporter": "python",
   "pygments_lexer": "ipython3",
   "version": "3.12.4"
  }
 },
 "nbformat": 4,
 "nbformat_minor": 5
}
